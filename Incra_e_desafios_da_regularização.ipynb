{
  "cells": [
    {
      "cell_type": "markdown",
      "metadata": {
        "id": "view-in-github",
        "colab_type": "text"
      },
      "source": [
        "<a href=\"https://colab.research.google.com/github/michaeljmcardoso/O-incra-e-os-desafios-para-regularizacao-quilombola/blob/main/Incra_e_desafios_da_regulariza%C3%A7%C3%A3o.ipynb\" target=\"_parent\"><img src=\"https://colab.research.google.com/assets/colab-badge.svg\" alt=\"Open In Colab\"/></a>"
      ]
    },
    {
      "cell_type": "markdown",
      "source": [
        "# O Incra e os desafios para a regularização dos territórios quilombolas"
      ],
      "metadata": {
        "id": "Z_fF3Nfan4d3"
      }
    },
    {
      "cell_type": "markdown",
      "source": [
        "## Introdução"
      ],
      "metadata": {
        "id": "_Mt9z0WZn-Ml"
      }
    },
    {
      "cell_type": "markdown",
      "source": [
        "A desigualdade na distribuição de terras no Brasil é um traço marcante de nossa história, persiste há décadas, levando à criação do Instituto Nacional de Colonização e Reforma Agrária (INCRA) em 1970, com a missão prioritária de executar a reforma agrária e realizar o ordenamento fundiário nacional. Atualmente, um dos principais desafios enfrentados por esse órgão federal é a regularização dos territórios quilombolas. Apesar de sua importância histórica, muitos territórios quilombolas permanecem sem regularização, dificultando o reconhecimento de seus moradores como legítimos proprietários e os expondo à insegurança e violência no campo. Este artigo tem como objetivo destacar alguns dos desafios enfrentados pelo INCRA na regularização dos territórios quilombolas, tais como a falta de mapeamento e documentação precisos, disputas sobre limites de terra, burocratização das regulamentações, limitação de recursos humanos e financeiros. Contudo, apesar desses desafios, o INCRA fez progressos nos últimos anos e continua a desempenhar um papel crucial no tratamento dessa importante questão. A partir de minha inserção profissional como antropólogo na superintendência regional do INCRA no Maranhão, busco refletir sobre a política nacional de regularização fundiária e os desafios para a regularização dos territórios quilombolas.\n",
        "\n"
      ],
      "metadata": {
        "id": "O5Nd0HA9oBa9"
      }
    },
    {
      "cell_type": "markdown",
      "source": [
        "## Desafios para regularização dos territórios quilombolas"
      ],
      "metadata": {
        "id": "9hzU0eDvoHjN"
      }
    },
    {
      "cell_type": "markdown",
      "source": [
        "O Instituto Nacional de Colonização e Reforma Agrária (INCRA) é um órgão federal brasileiro responsável pela implementação de políticas relacionadas à reforma agrária e o desenvolvimento rural. Foi criado em 1970 e tem sido fundamental para lidar com a distribuição desigual da terra no país e melhorar a vida das comunidades rurais.\n",
        "\n",
        "Um dos principais desafios do INCRA é a regularização dos territórios ocupados pelos chamados remanescentes das comunidades de quilombos, ou simplesmente quilombolas. De acordo com o a definição do Art. 2° do Decreto 4887/2003, que regulamenta o procedimento para identificação, reconhecimento, delimitação, demarcação e titulação das terras ocupadas por remanescentes das comunidades dos quilombos de que trata o Art. 68 do Ato das Disposições Constitucionais Transitórias, consideram-se remanescentes das comunidades dos quilombos, os grupos étnico-raciais, segundo critérios de autoatribuição, com trajetória histórica própria, dotados de relações territoriais específicas, com presunção de ancestralidade negra relacionada com a resistência à opressão histórica sofrida.\n",
        "\n",
        "Essas comunidades detêm um rico patrimônio cultural e desempenham um papel crucial na preservação de muitas tradições afro-brasileiras. Apesar de seu significado histórico, muitos territórios quilombolas permanecem sem regularização, o que significa que seus moradores não são reconhecidos como legítimos proprietários das terras que ocupam, uma vez que não possuem os títulos de domínio. Fato este que gera insegurança, disputas pela posse de terras e consequente violência no campo. Essa falta de reconhecimento dificulta que as comunidades quilombolas sobrevivam, garantam seus direitos e preservem sua cultura e modos de vida.\n",
        "\n",
        "Um dos grandes desafios na regularização dos territórios quilombolas é a falta de mapeamento e documentação precisos. Muitas dessas comunidades estão localizadas em áreas remotas e não foram devidamente documentadas, o que torna difícil para o governo reconhecer suas reivindicações de terra. Sendo necessário a realização de um conjunto de levantamentos, estudos técnicos e científicos na busca pela identificação e delimitação dos territórios reivindicados por essas comunidades.\n",
        "\n",
        "Outrossim, muitas vezes há conflitos de interesses internos às comunidades e/ou disputas sobre os limites dos territórios quilombolas, pois comunidades vizinhas, proprietários particulares e até mesmo áreas de projetos de assentamentos já constituídos também disputam o espaço e todos podem reivindicar a propriedade das terras. Em grande parte dos casos isso gera conflitos e torna o processo de regularização ainda mais complicado.\n",
        "\n",
        "Outro desafio enfrentado pelo INCRA são os recursos limitados disponíveis para realizar os processos de regularização. A regularização dos territórios quilombolas requer uma quantidade significativa de tempo e recursos, incluindo pessoal, equipamentos e fundos. A precária estrutura pode tornar difícil para a Autarquia agrária cumprir efetivamente seu dever de defender os direitos das comunidades quilombolas.\n",
        "\n",
        "Na atualidade existem de 1.818 processos abertos em todas as Superintendências Regionais (SR), à exceção de Roraima, Marabá-PA e Acre. No caso específico do Estado do Maranhão, onde atuo em processos de regularização, um desafio peculiar a ser observado é a grandiosa demanda por regularização que se configura como a maior demanda dentre todos os Estados brasileiros: são mais de 400 processos administrativos abertos desde o ano de 2003, quando teve início a política de regularização quilombola no INCRA."
      ],
      "metadata": {
        "id": "j59O14U_oMox"
      }
    },
    {
      "cell_type": "markdown",
      "source": [
        "Além dos desafios já mencionados, a falta de recursos humanos é outro grave problema enfrentado pelo INCRA na regularização dos territórios quilombolas. Com pessoal limitado, o órgão não dispõe de recursos humanos suficientes para realizar efetivamente os estudos de identificação e delimitação e dar andamento aos processos de regularização. A grande demanda por regularização no país aumenta esse desafio, pois a demanda é muito maior do que o órgão é capaz de atender.\n",
        "\n",
        "Frente a essa demanda um reduzido quadro de funcionários que não está se renovando ou recebendo reforços. O último concurso realizado pelo órgão foi em 2010, quando entraram 550 novos servidores. De lá para cá passaram-se mais de dez anos sem que haja novas contratações, enquanto isso a força de trabalho se reduz ano após ano com as progressivas aposentadorias dos servidores mais antigos.\n",
        "\n",
        "A falta de recursos financeiros é outro grande desafio enfrentado pelo INCRA. A regularização dos territórios quilombolas requer um financiamento significativo, incluindo pessoal, equipamentos e outros recursos. No entanto, o orçamento do Incra é limitado, dificultando a realização de ações de regularização em larga escala. Nos últimos dez anos houve diminuição significativa tanto do orçamento destinado aos trabalhos de identificação e delimitação, quanto dos recursos destinados para pagamento das indenizações dos imóveis incidentes nos territórios\n",
        "\n",
        "Por fim, a excessiva burocratização das regulamentações também é um desafio. Os estudos de identificação e delimitação estão previstos em uma extensa normativa (IN 57/2009), com muitos critérios a serem observados. O processo de regularização é complexo e requer o cumprimento de inúmeras regulamentações, que podem consumir muito tempo e desencorajar as comunidades a buscar o reconhecimento. A burocracia excessiva também pode tornar o processo menos acessível para as comunidades, pois elas podem ter dificuldades para compreender os regulamentos e requisitos. Já pelo lado dos gestores a dificuldade é conseguir vencer todas as etapas previstas sem descumprir os critérios normativos exigidos, sob o risco de ter que retroceder para sanear pendências ou até uma possível anulação de partes ou de todo o processo administrativo.\n",
        "\n",
        "Apesar desses desafios, o INCRA teve alguns avanços na regularização dos territórios quilombolas nos últimos anos. Como forma de tentar superar essas dificuldades a Autarquia realizou acordos de parcerias com ONGs, Universidades, outros órgãos de Estado como a Secretaria Nacional de Políticas de Promoção da Igualdade Racial — SNPPIR, além de estabelecer contratos com empresas privadas, para ajudar nos esforços de mapeamento, identificação e documentação dessas comunidades, com vistas a dar andamento aos processos administrativos de regularização fundiária.\n"
      ],
      "metadata": {
        "id": "XZ910H0VoTHG"
      }
    },
    {
      "cell_type": "markdown",
      "source": [
        "## Conclusão"
      ],
      "metadata": {
        "id": "gUZ7UcngoYmY"
      }
    },
    {
      "cell_type": "markdown",
      "source": [
        "Enfim, a regularização dos territórios quilombolas é uma questão complexa e desafiadora que requer uma abordagem multifacetada. O INCRA desempenha um papel fundamental na abordagem dessa questão e fez alguns progressos nos últimos anos, porém muito trabalho ainda precisa ser feito para garantir que as comunidades quilombolas recebam o reconhecimento e a devida titulação das terras que tradicionalmente ocupam. Será necessário investir em contratações para o quadro de pessoal, reforço nos recursos destinados à política de regularização, principalmente no tocante à desapropriação e indenização dos imóveis incidentes nos territórios reivindicados, bem como revisão e desburocratização das normativas que regem a regularização fundiária quilombola. A regularização dos territórios quilombolas é uma questão crítica que requer uma abordagem integral. Os desafios enfrentados pelo INCRA, incluindo a falta de recursos humanos, a alta demanda por regularização, a falta de recursos financeiros e a excessiva burocratização das regulamentações, devem ser enfrentados para garantir que as comunidades quilombolas recebam o reconhecimento e sejam garantidos os seus direitos.\n",
        "\n"
      ],
      "metadata": {
        "id": "OsAOjR_1obdj"
      }
    },
    {
      "cell_type": "markdown",
      "source": [
        "### Conheça mais sobre a Legislação Quilombola\n",
        "\n",
        "Decreto 4887/2003 | Regulamenta o procedimento para identificação, reconhecimento, delimitação, demarcação e titulação das terras ocupadas por remanescentes das comunidades dos quilombos de que trata o art. 68 do Ato das Disposições Constitucionais Transitórias.\n",
        "\n",
        "Instrução Normativa Incra 57/2009 | Regulamenta o procedimento para identificação, reconhecimento, delimitação, demarcação, desintrusão, titulação e registro das terras ocupadas por remanescentes das comunidades dos quilombos.\n",
        "\n",
        "Decreto 6040 | Institui a Política Nacional de Desenvolvimento Sustentável dos Povos e Comunidades Tradicionais.\n",
        "\n",
        "Artigo 68 do ADCT | Reconhece a propriedade definitiva aos remanescentes de quilombos que estejam ocupando suas terras, devendo o Estado emitir-lhes os respectivos títulos."
      ],
      "metadata": {
        "id": "qRzwZ5jHoe7s"
      }
    },
    {
      "cell_type": "markdown",
      "source": [
        "Clique aqui e acesse o notebook do Colab para ver como construí o gráfico de barras deste artigo.\n",
        "\n",
        "LinkedIn\n",
        "\n",
        "Github"
      ],
      "metadata": {
        "id": "JaadWBifonwn"
      }
    }
  ],
  "metadata": {
    "colab": {
      "provenance": [],
      "mount_file_id": "1-uxfo0q6GTlUNZT9QA_89Z5WR0xdEuS2",
      "authorship_tag": "ABX9TyMjJLHvvwaAcmWK0nFDxZbU",
      "include_colab_link": true
    },
    "kernelspec": {
      "display_name": "Python 3",
      "name": "python3"
    },
    "language_info": {
      "name": "python"
    }
  },
  "nbformat": 4,
  "nbformat_minor": 0
}