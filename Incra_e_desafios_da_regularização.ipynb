{
  "cells": [
    {
      "cell_type": "markdown",
      "metadata": {
        "id": "view-in-github",
        "colab_type": "text"
      },
      "source": [
        "<a href=\"https://colab.research.google.com/github/michaeljmcardoso/O-incra-e-os-desafios-para-regularizacao-quilombola/blob/main/Incra_e_desafios_da_regulariza%C3%A7%C3%A3o.ipynb\" target=\"_parent\"><img src=\"https://colab.research.google.com/assets/colab-badge.svg\" alt=\"Open In Colab\"/></a>"
      ]
    },
    {
      "cell_type": "code",
      "execution_count": 1,
      "metadata": {
        "id": "mUoKQL4CGHIq"
      },
      "outputs": [],
      "source": [
        "# importar as bibliotecas necessárias\n",
        "import pandas as pd\n",
        "import matplotlib.pyplot as plt\n",
        "import matplotlib as mpl\n",
        "import seaborn as sns\n",
        "import plotly.express as px\n",
        "\n",
        "from google.colab import drive\n",
        "\n",
        "mpl.style.use('ggplot')\n",
        "plt.style.use('fivethirtyeight')\n",
        "sns.set(context='notebook', palette='dark', style='whitegrid')\n"
      ]
    },
    {
      "cell_type": "code",
      "execution_count": 2,
      "metadata": {
        "colab": {
          "base_uri": "https://localhost:8080/"
        },
        "id": "7vx9gT9_kp9Q",
        "outputId": "e528e246-79e3-441f-8198-46684079681c"
      },
      "outputs": [
        {
          "output_type": "stream",
          "name": "stdout",
          "text": [
            "Mounted at /content/gdrive\n"
          ]
        }
      ],
      "source": [
        "# montar o drive\n",
        "drive.mount('/content/gdrive')"
      ]
    },
    {
      "cell_type": "code",
      "execution_count": 3,
      "metadata": {
        "id": "KxMNAp3HeUMW"
      },
      "outputs": [],
      "source": [
        "df = pd.read_excel('/content/gdrive/MyDrive/Processos abertos por UF.xlsx')"
      ]
    },
    {
      "cell_type": "code",
      "execution_count": 4,
      "metadata": {
        "colab": {
          "base_uri": "https://localhost:8080/",
          "height": 156
        },
        "id": "BGuDgzZiN4gA",
        "outputId": "2853ee43-3ea8-4862-904c-6c678ba552ba"
      },
      "outputs": [
        {
          "output_type": "stream",
          "name": "stdout",
          "text": [
            "-*--*--*--*--*--*--*--*-\n",
            "Entradas: \t 27\n",
            "Variáveis: \t 2\n",
            "\n",
            "-*--*--*--*--*--*--*--*-\n"
          ]
        },
        {
          "output_type": "display_data",
          "data": {
            "text/plain": [
              "UF            object\n",
              "Quantidade     int64\n",
              "dtype: object"
            ]
          },
          "metadata": {}
        }
      ],
      "source": [
        "# identificar o volume de dados do DataFrame\n",
        "\n",
        "print(\"-*-\" * 8)\n",
        "print(\"Entradas: \\t {}\".format(df.shape[0]))\n",
        "print(\"Variáveis: \\t {}\\n\".format(df.shape[1]))\n",
        "print(\"-*-\" * 8)\n",
        "\n",
        "# mostrar o tipo das variáveis\n",
        "display(df.dtypes)"
      ]
    },
    {
      "cell_type": "code",
      "execution_count": 5,
      "metadata": {
        "colab": {
          "base_uri": "https://localhost:8080/",
          "height": 206
        },
        "id": "NTbNBhOCnqr-",
        "outputId": "a4eaed6c-29d4-48ab-8ab3-957a13b70f88"
      },
      "outputs": [
        {
          "output_type": "execute_result",
          "data": {
            "text/plain": [
              "          UF  Quantidade\n",
              "0  SR(PA/NE)          48\n",
              "1     SR(AM)           3\n",
              "2     SR(RO)           7\n",
              "3     SR(AP)          34\n",
              "4     SR(TO)          33"
            ],
            "text/html": [
              "\n",
              "  <div id=\"df-12e5210e-8709-4a94-87dd-afb90081106f\">\n",
              "    <div class=\"colab-df-container\">\n",
              "      <div>\n",
              "<style scoped>\n",
              "    .dataframe tbody tr th:only-of-type {\n",
              "        vertical-align: middle;\n",
              "    }\n",
              "\n",
              "    .dataframe tbody tr th {\n",
              "        vertical-align: top;\n",
              "    }\n",
              "\n",
              "    .dataframe thead th {\n",
              "        text-align: right;\n",
              "    }\n",
              "</style>\n",
              "<table border=\"1\" class=\"dataframe\">\n",
              "  <thead>\n",
              "    <tr style=\"text-align: right;\">\n",
              "      <th></th>\n",
              "      <th>UF</th>\n",
              "      <th>Quantidade</th>\n",
              "    </tr>\n",
              "  </thead>\n",
              "  <tbody>\n",
              "    <tr>\n",
              "      <th>0</th>\n",
              "      <td>SR(PA/NE)</td>\n",
              "      <td>48</td>\n",
              "    </tr>\n",
              "    <tr>\n",
              "      <th>1</th>\n",
              "      <td>SR(AM)</td>\n",
              "      <td>3</td>\n",
              "    </tr>\n",
              "    <tr>\n",
              "      <th>2</th>\n",
              "      <td>SR(RO)</td>\n",
              "      <td>7</td>\n",
              "    </tr>\n",
              "    <tr>\n",
              "      <th>3</th>\n",
              "      <td>SR(AP)</td>\n",
              "      <td>34</td>\n",
              "    </tr>\n",
              "    <tr>\n",
              "      <th>4</th>\n",
              "      <td>SR(TO)</td>\n",
              "      <td>33</td>\n",
              "    </tr>\n",
              "  </tbody>\n",
              "</table>\n",
              "</div>\n",
              "      <button class=\"colab-df-convert\" onclick=\"convertToInteractive('df-12e5210e-8709-4a94-87dd-afb90081106f')\"\n",
              "              title=\"Convert this dataframe to an interactive table.\"\n",
              "              style=\"display:none;\">\n",
              "        \n",
              "  <svg xmlns=\"http://www.w3.org/2000/svg\" height=\"24px\"viewBox=\"0 0 24 24\"\n",
              "       width=\"24px\">\n",
              "    <path d=\"M0 0h24v24H0V0z\" fill=\"none\"/>\n",
              "    <path d=\"M18.56 5.44l.94 2.06.94-2.06 2.06-.94-2.06-.94-.94-2.06-.94 2.06-2.06.94zm-11 1L8.5 8.5l.94-2.06 2.06-.94-2.06-.94L8.5 2.5l-.94 2.06-2.06.94zm10 10l.94 2.06.94-2.06 2.06-.94-2.06-.94-.94-2.06-.94 2.06-2.06.94z\"/><path d=\"M17.41 7.96l-1.37-1.37c-.4-.4-.92-.59-1.43-.59-.52 0-1.04.2-1.43.59L10.3 9.45l-7.72 7.72c-.78.78-.78 2.05 0 2.83L4 21.41c.39.39.9.59 1.41.59.51 0 1.02-.2 1.41-.59l7.78-7.78 2.81-2.81c.8-.78.8-2.07 0-2.86zM5.41 20L4 18.59l7.72-7.72 1.47 1.35L5.41 20z\"/>\n",
              "  </svg>\n",
              "      </button>\n",
              "      \n",
              "  <style>\n",
              "    .colab-df-container {\n",
              "      display:flex;\n",
              "      flex-wrap:wrap;\n",
              "      gap: 12px;\n",
              "    }\n",
              "\n",
              "    .colab-df-convert {\n",
              "      background-color: #E8F0FE;\n",
              "      border: none;\n",
              "      border-radius: 50%;\n",
              "      cursor: pointer;\n",
              "      display: none;\n",
              "      fill: #1967D2;\n",
              "      height: 32px;\n",
              "      padding: 0 0 0 0;\n",
              "      width: 32px;\n",
              "    }\n",
              "\n",
              "    .colab-df-convert:hover {\n",
              "      background-color: #E2EBFA;\n",
              "      box-shadow: 0px 1px 2px rgba(60, 64, 67, 0.3), 0px 1px 3px 1px rgba(60, 64, 67, 0.15);\n",
              "      fill: #174EA6;\n",
              "    }\n",
              "\n",
              "    [theme=dark] .colab-df-convert {\n",
              "      background-color: #3B4455;\n",
              "      fill: #D2E3FC;\n",
              "    }\n",
              "\n",
              "    [theme=dark] .colab-df-convert:hover {\n",
              "      background-color: #434B5C;\n",
              "      box-shadow: 0px 1px 3px 1px rgba(0, 0, 0, 0.15);\n",
              "      filter: drop-shadow(0px 1px 2px rgba(0, 0, 0, 0.3));\n",
              "      fill: #FFFFFF;\n",
              "    }\n",
              "  </style>\n",
              "\n",
              "      <script>\n",
              "        const buttonEl =\n",
              "          document.querySelector('#df-12e5210e-8709-4a94-87dd-afb90081106f button.colab-df-convert');\n",
              "        buttonEl.style.display =\n",
              "          google.colab.kernel.accessAllowed ? 'block' : 'none';\n",
              "\n",
              "        async function convertToInteractive(key) {\n",
              "          const element = document.querySelector('#df-12e5210e-8709-4a94-87dd-afb90081106f');\n",
              "          const dataTable =\n",
              "            await google.colab.kernel.invokeFunction('convertToInteractive',\n",
              "                                                     [key], {});\n",
              "          if (!dataTable) return;\n",
              "\n",
              "          const docLinkHtml = 'Like what you see? Visit the ' +\n",
              "            '<a target=\"_blank\" href=https://colab.research.google.com/notebooks/data_table.ipynb>data table notebook</a>'\n",
              "            + ' to learn more about interactive tables.';\n",
              "          element.innerHTML = '';\n",
              "          dataTable['output_type'] = 'display_data';\n",
              "          await google.colab.output.renderOutput(dataTable, element);\n",
              "          const docLink = document.createElement('div');\n",
              "          docLink.innerHTML = docLinkHtml;\n",
              "          element.appendChild(docLink);\n",
              "        }\n",
              "      </script>\n",
              "    </div>\n",
              "  </div>\n",
              "  "
            ]
          },
          "metadata": {},
          "execution_count": 5
        }
      ],
      "source": [
        "# Verificar as 5 primeiras entradas\n",
        "df.head()"
      ]
    },
    {
      "cell_type": "code",
      "execution_count": 6,
      "metadata": {
        "colab": {
          "base_uri": "https://localhost:8080/"
        },
        "id": "7pXKfUAon6i-",
        "outputId": "214a39fe-2748-4220-a32a-77d51fd8bd20"
      },
      "outputs": [
        {
          "output_type": "execute_result",
          "data": {
            "text/plain": [
              "Index(['UF', 'Quantidade'], dtype='object')"
            ]
          },
          "metadata": {},
          "execution_count": 6
        }
      ],
      "source": [
        "# Identificar as colunas do Dataframe\n",
        "df.columns"
      ]
    },
    {
      "cell_type": "code",
      "execution_count": 7,
      "metadata": {
        "colab": {
          "base_uri": "https://localhost:8080/",
          "height": 582
        },
        "id": "2iVXF6ayAAFl",
        "outputId": "6cac7daa-8d06-4b55-ae94-7aede39b1806"
      },
      "outputs": [
        {
          "output_type": "display_data",
          "data": {
            "text/plain": [
              "<Figure size 720x576 with 1 Axes>"
            ],
            "image/png": "[encoded data removed]"
          },
          "metadata": {}
        }
      ],
      "source": [
        "# Ajustar a ordem do DataFrame,\n",
        "df.sort_values(by='Quantidade',  # ordenar pela quantidade,\n",
        "                ascending=True, # colocar na ordem contrária a ascendente, do menor para o maior  \n",
        "                inplace=True, # atualizar o DataFrame com as mudanças\n",
        "                ignore_index=True) # ignorar índice anterior\n",
        "\n",
        "# Criar variável para receber os Estados\n",
        "uf = df[\"UF\"]\n",
        "\n",
        "# Criar variável para receber as quantidades\n",
        "quantidade = df[\"Quantidade\"]\n",
        "\n",
        "# Criando a figure para o gráfico de barras\n",
        "fig, ax = plt.subplots(figsize=(10, 8)) # tamanho 10 por 8\n",
        "\n",
        "# Escolhendo tema do Seaborn\n",
        "sns.set_theme(style=\"whitegrid\")\n",
        "\n",
        "# Plot do gráfico de barras com o Seaborn\n",
        "sns.barplot(\n",
        "            x = quantidade, \n",
        "            y = uf, \n",
        "            palette=\"Greens\")\n",
        "\n",
        "# Excluindo grids e eixos\n",
        "ax.spines['right'].set_visible(False)\n",
        "ax.spines['left'].set_visible(False)\n",
        "ax.spines['top'].set_visible(False)\n",
        "ax.spines['bottom'].set_visible(False)\n",
        "\n",
        "# Excluindo eixo x\n",
        "plt.gca().axes.get_xaxis().set_visible(False)\n",
        "\n",
        "# Excluindo xticks do eixo x\n",
        "plt.tick_params(\n",
        "    axis='both',         \n",
        "    which='both',     \n",
        "    bottom=False,      \n",
        "    top=False,         \n",
        "    labelbottom=True) \n",
        "\n",
        "# Colocando os valores ao lado das barras\n",
        "for i, v in enumerate(quantidade):\n",
        "    ax.text(v + 4, i + 0.1, str(v), color = '#014106')\n",
        "\n",
        "# Inserindo título do gráfico\n",
        "plt.text(60, -0.8, \"Processos Abertos por Estado (2003-2023)\", # inserindo valores de posição para o title\n",
        "         fontsize=15, # tamanho da fonte\n",
        "         color='#787878', # cor hexadecimal\n",
        "         weight='bold') # aplicando negrito\n",
        "\n",
        "# plotando o gráfico\n",
        "plt.tight_layout()"
      ]
    }
  ],
  "metadata": {
    "colab": {
      "provenance": [],
      "mount_file_id": "1-uxfo0q6GTlUNZT9QA_89Z5WR0xdEuS2",
      "authorship_tag": "ABX9TyMK2+Z4fF5LE9wEGS6tJmzr",
      "include_colab_link": true
    },
    "kernelspec": {
      "display_name": "Python 3",
      "name": "python3"
    },
    "language_info": {
      "name": "python"
    }
  },
  "nbformat": 4,
  "nbformat_minor": 0
}